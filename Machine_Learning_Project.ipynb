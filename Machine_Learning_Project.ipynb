{
  "cells": [
    {
      "cell_type": "markdown",
      "metadata": {
        "id": "view-in-github",
        "colab_type": "text"
      },
      "source": [
        "<a href=\"https://colab.research.google.com/github/saugabriele/Machine_Learning_Project/blob/main/Machine_Learning_Project.ipynb\" target=\"_parent\"><img src=\"https://colab.research.google.com/assets/colab-badge.svg\" alt=\"Open In Colab\"/></a>"
      ]
    },
    {
      "cell_type": "markdown",
      "metadata": {
        "id": "xw37Yu58D00h"
      },
      "source": [
        "#**Malicious Url Detector Project**\n",
        "To develop a classifier for detecting malicious URLs, the project started with a dataset containing a few URLs. In this case I tried to create a multiclass classifier that can classify a URL like:\n",
        "- **Benign**: These are safe to browse URLs.\n",
        "- **Phishing**: By creating phishing URLs, hackers try to steal sensitive personal or financial information such as login credentials\n",
        "- **Malware**:These type of URLs inject malware into the victim’s system once he/she visit such URLs.\n",
        "- **Defacement**: Defacement URLs are generally created by hackers with the intention of breaking into a web server and replacing the hosted website with one of their own"
      ]
    },
    {
      "cell_type": "code",
      "execution_count": null,
      "metadata": {
        "id": "77h6q_E2dzBg"
      },
      "outputs": [],
      "source": [
        "import pandas as pd\n",
        "import numpy as np\n",
        "import re\n",
        "from urllib.parse import urlparse\n",
        "import matplotlib.pyplot as plt \n",
        "from sklearn.preprocessing import MinMaxScaler, LabelEncoder\n",
        "from sklearn.model_selection import ShuffleSplit\n",
        "from sklearn.model_selection import GridSearchCV"
      ]
    },
    {
      "cell_type": "code",
      "execution_count": null,
      "metadata": {
        "colab": {
          "base_uri": "https://localhost:8080/",
          "height": 206
        },
        "id": "QhHerv7xfPAO",
        "outputId": "84840db0-c9e9-4af4-f65a-d8d9ee38a6a0"
      },
      "outputs": [
        {
          "data": {
            "text/html": [
              "\n",
              "  <div id=\"df-d668de2d-bf10-4d84-89fe-cde4ecd3a350\">\n",
              "    <div class=\"colab-df-container\">\n",
              "      <div>\n",
              "<style scoped>\n",
              "    .dataframe tbody tr th:only-of-type {\n",
              "        vertical-align: middle;\n",
              "    }\n",
              "\n",
              "    .dataframe tbody tr th {\n",
              "        vertical-align: top;\n",
              "    }\n",
              "\n",
              "    .dataframe thead th {\n",
              "        text-align: right;\n",
              "    }\n",
              "</style>\n",
              "<table border=\"1\" class=\"dataframe\">\n",
              "  <thead>\n",
              "    <tr style=\"text-align: right;\">\n",
              "      <th></th>\n",
              "      <th>url</th>\n",
              "      <th>type</th>\n",
              "    </tr>\n",
              "  </thead>\n",
              "  <tbody>\n",
              "    <tr>\n",
              "      <th>0</th>\n",
              "      <td>br-icloud.com.br</td>\n",
              "      <td>phishing</td>\n",
              "    </tr>\n",
              "    <tr>\n",
              "      <th>1</th>\n",
              "      <td>mp3raid.com/music/krizz_kaliko.html</td>\n",
              "      <td>benign</td>\n",
              "    </tr>\n",
              "    <tr>\n",
              "      <th>2</th>\n",
              "      <td>bopsecrets.org/rexroth/cr/1.htm</td>\n",
              "      <td>benign</td>\n",
              "    </tr>\n",
              "    <tr>\n",
              "      <th>3</th>\n",
              "      <td>http://www.garage-pirenne.be/index.php?option=...</td>\n",
              "      <td>defacement</td>\n",
              "    </tr>\n",
              "    <tr>\n",
              "      <th>4</th>\n",
              "      <td>http://adventure-nicaragua.net/index.php?optio...</td>\n",
              "      <td>defacement</td>\n",
              "    </tr>\n",
              "  </tbody>\n",
              "</table>\n",
              "</div>\n",
              "      <button class=\"colab-df-convert\" onclick=\"convertToInteractive('df-d668de2d-bf10-4d84-89fe-cde4ecd3a350')\"\n",
              "              title=\"Convert this dataframe to an interactive table.\"\n",
              "              style=\"display:none;\">\n",
              "        \n",
              "  <svg xmlns=\"http://www.w3.org/2000/svg\" height=\"24px\"viewBox=\"0 0 24 24\"\n",
              "       width=\"24px\">\n",
              "    <path d=\"M0 0h24v24H0V0z\" fill=\"none\"/>\n",
              "    <path d=\"M18.56 5.44l.94 2.06.94-2.06 2.06-.94-2.06-.94-.94-2.06-.94 2.06-2.06.94zm-11 1L8.5 8.5l.94-2.06 2.06-.94-2.06-.94L8.5 2.5l-.94 2.06-2.06.94zm10 10l.94 2.06.94-2.06 2.06-.94-2.06-.94-.94-2.06-.94 2.06-2.06.94z\"/><path d=\"M17.41 7.96l-1.37-1.37c-.4-.4-.92-.59-1.43-.59-.52 0-1.04.2-1.43.59L10.3 9.45l-7.72 7.72c-.78.78-.78 2.05 0 2.83L4 21.41c.39.39.9.59 1.41.59.51 0 1.02-.2 1.41-.59l7.78-7.78 2.81-2.81c.8-.78.8-2.07 0-2.86zM5.41 20L4 18.59l7.72-7.72 1.47 1.35L5.41 20z\"/>\n",
              "  </svg>\n",
              "      </button>\n",
              "      \n",
              "  <style>\n",
              "    .colab-df-container {\n",
              "      display:flex;\n",
              "      flex-wrap:wrap;\n",
              "      gap: 12px;\n",
              "    }\n",
              "\n",
              "    .colab-df-convert {\n",
              "      background-color: #E8F0FE;\n",
              "      border: none;\n",
              "      border-radius: 50%;\n",
              "      cursor: pointer;\n",
              "      display: none;\n",
              "      fill: #1967D2;\n",
              "      height: 32px;\n",
              "      padding: 0 0 0 0;\n",
              "      width: 32px;\n",
              "    }\n",
              "\n",
              "    .colab-df-convert:hover {\n",
              "      background-color: #E2EBFA;\n",
              "      box-shadow: 0px 1px 2px rgba(60, 64, 67, 0.3), 0px 1px 3px 1px rgba(60, 64, 67, 0.15);\n",
              "      fill: #174EA6;\n",
              "    }\n",
              "\n",
              "    [theme=dark] .colab-df-convert {\n",
              "      background-color: #3B4455;\n",
              "      fill: #D2E3FC;\n",
              "    }\n",
              "\n",
              "    [theme=dark] .colab-df-convert:hover {\n",
              "      background-color: #434B5C;\n",
              "      box-shadow: 0px 1px 3px 1px rgba(0, 0, 0, 0.15);\n",
              "      filter: drop-shadow(0px 1px 2px rgba(0, 0, 0, 0.3));\n",
              "      fill: #FFFFFF;\n",
              "    }\n",
              "  </style>\n",
              "\n",
              "      <script>\n",
              "        const buttonEl =\n",
              "          document.querySelector('#df-d668de2d-bf10-4d84-89fe-cde4ecd3a350 button.colab-df-convert');\n",
              "        buttonEl.style.display =\n",
              "          google.colab.kernel.accessAllowed ? 'block' : 'none';\n",
              "\n",
              "        async function convertToInteractive(key) {\n",
              "          const element = document.querySelector('#df-d668de2d-bf10-4d84-89fe-cde4ecd3a350');\n",
              "          const dataTable =\n",
              "            await google.colab.kernel.invokeFunction('convertToInteractive',\n",
              "                                                     [key], {});\n",
              "          if (!dataTable) return;\n",
              "\n",
              "          const docLinkHtml = 'Like what you see? Visit the ' +\n",
              "            '<a target=\"_blank\" href=https://colab.research.google.com/notebooks/data_table.ipynb>data table notebook</a>'\n",
              "            + ' to learn more about interactive tables.';\n",
              "          element.innerHTML = '';\n",
              "          dataTable['output_type'] = 'display_data';\n",
              "          await google.colab.output.renderOutput(dataTable, element);\n",
              "          const docLink = document.createElement('div');\n",
              "          docLink.innerHTML = docLinkHtml;\n",
              "          element.appendChild(docLink);\n",
              "        }\n",
              "      </script>\n",
              "    </div>\n",
              "  </div>\n",
              "  "
            ],
            "text/plain": [
              "                                                 url        type\n",
              "0                                   br-icloud.com.br    phishing\n",
              "1                mp3raid.com/music/krizz_kaliko.html      benign\n",
              "2                    bopsecrets.org/rexroth/cr/1.htm      benign\n",
              "3  http://www.garage-pirenne.be/index.php?option=...  defacement\n",
              "4  http://adventure-nicaragua.net/index.php?optio...  defacement"
            ]
          },
          "execution_count": 31,
          "metadata": {},
          "output_type": "execute_result"
        }
      ],
      "source": [
        "#Create a DataFrame from the dataset csv file\n",
        "df = pd.read_csv(\"https://raw.githubusercontent.com/saugabriele/Machine_Learning_Project/main/malicious_phish1.csv\")\n",
        "df.head()"
      ]
    },
    {
      "cell_type": "code",
      "execution_count": null,
      "metadata": {
        "id": "lBMnTEQzfYeo"
      },
      "outputs": [],
      "source": [
        "#Convert the DataFrame in numpy arrays\n",
        "url_array = df['url'].to_numpy()\n",
        "type_array = df['type'].to_numpy()"
      ]
    },
    {
      "cell_type": "markdown",
      "metadata": {
        "id": "cXfkrRc9GtR_"
      },
      "source": [
        "##**Features Extraction**\n",
        "To determine the class label of an URL, the first step was selecting the features that can be extracted from an URL. In this case i decided to extract some lexical features:\n",
        "- These refer to statistical features extracted from the literal URL string. For example, length of the URL string, number of digits, number of parameters in its query part, if the URL is encoded, etc."
      ]
    },
    {
      "cell_type": "code",
      "execution_count": null,
      "metadata": {
        "id": "EWTluqxNS6ZN"
      },
      "outputs": [],
      "source": [
        "def www_count(url):\n",
        "  \"\"\"\n",
        "    From the input URL this will return the number of \n",
        "    occurrences of the substring 'www'.\n",
        "  \"\"\"\n",
        "  return url.count('www')\n",
        "\n",
        "def at_count(url):\n",
        "  \"\"\"\n",
        "    From the input URL this will return the number of \n",
        "    occurrences of the substring '@'.\n",
        "  \"\"\"\n",
        "  return url.count('@')\n",
        "\n",
        "def url_lenght(url):\n",
        "  \"\"\"\n",
        "    From the input URL this will return the\n",
        "    corresponding length\n",
        "  \"\"\"\n",
        "  return len(url)\n",
        "\n",
        "def url_path_len(url):\n",
        "  \"\"\"\n",
        "    From the input URL this will return the length\n",
        "    of the path where the resource is located.\n",
        "  \"\"\"\n",
        "  url_parse = urlparse(url)\n",
        "  return len(url_parse.path)\n",
        "\n",
        "def host_len(url):\n",
        "  \"\"\"\n",
        "     From the input URL this will return the length\n",
        "     of the hostname.\n",
        "  \"\"\"\n",
        "  url_parse = urlparse(url)\n",
        "  return len(url_parse.netloc)\n",
        "\n",
        "def url_host_is_ip(url):\n",
        "  \"\"\"\n",
        "    From the input URL this will return 1 if the hostname\n",
        "    contains the IP adress otherwise it returns 0 if it\n",
        "    contains the domain name where the resource is located.\n",
        "  \"\"\"\n",
        "  url = urlparse(url)\n",
        "  reg = r\"^(([0-9]|[1-9][0-9]|1[0-9]{2}|2[0-4][0-9]|25[0-5])\\.){3}([0-9]|[1-9][0-9]|1[0-9]{2}|2[0-4][0-9]|25[0-5])$\"\n",
        "  if re.match(reg, url.netloc):\n",
        "      return 1\n",
        "  else:\n",
        "      return 0\n",
        "\n",
        "def number_of_digits(url):\n",
        "  \"\"\"\n",
        "    From the input URL this will return the number of \n",
        "    digits in the URL.\n",
        "  \"\"\"\n",
        "  digits = [i for i in url if i.isdigit()]\n",
        "  return len(digits)\n",
        "\n",
        "def number_of_parameters(url):\n",
        "  \"\"\"\n",
        "    From the input URL this will return the number of\n",
        "    parameters contained in the URL.\n",
        "  \"\"\"\n",
        "  params = urlparse(url).query\n",
        "  return 0 if params == '' else len(params.split('&'))\n",
        "\n",
        "def number_of_subdirectories(url):\n",
        "  \"\"\"\n",
        "    From the input URL this will return the number of\n",
        "    subdirectories in the path of the URL.\n",
        "  \"\"\"\n",
        "  d = urlparse(url).path.split('/')\n",
        "  return len(d) - 1\n",
        "\n",
        "def number_of_periods(url):\n",
        "  \"\"\"\n",
        "    From the input URL this will return the number of\n",
        "    periods in the URL.\n",
        "  \"\"\"\n",
        "  return url.count('.')\n",
        "\n",
        "def num_encoded_char(url):\n",
        "  \"\"\"\n",
        "    From the input URL this will return the number of\n",
        "    encoded characters in the URL.\n",
        "  \"\"\"\n",
        "  return url.count('%')\n",
        "\n",
        "def equal_count(url):\n",
        "  \"\"\"\n",
        "    From the input URL this will return the number of\n",
        "    variable values passed from one form page to another.\n",
        "  \"\"\"\n",
        "  return url.count('=')\n",
        "\n",
        "def count_http(url):\n",
        "  \"\"\"\n",
        "    From the input URL this will return the number of \n",
        "    occurrences of the substring 'http'.\n",
        "  \"\"\"\n",
        "  return url.count('http')\n",
        "\n",
        "def count_https(url):\n",
        "  \"\"\"\n",
        "    From the input URL this will return the number of \n",
        "    occurrences of the substring 'https'.\n",
        "  \"\"\"\n",
        "  return url.count('https')\n",
        "\n",
        "features_extraction_func = []\n",
        "features_extraction_func.append(np.vectorize(www_count))\n",
        "features_extraction_func.append(np.vectorize(at_count))\n",
        "features_extraction_func.append(np.vectorize(url_lenght))\n",
        "features_extraction_func.append(np.vectorize(url_path_len))\n",
        "features_extraction_func.append(np.vectorize(host_len))\n",
        "features_extraction_func.append(np.vectorize(url_host_is_ip))\n",
        "features_extraction_func.append(np.vectorize(number_of_digits))\n",
        "features_extraction_func.append(np.vectorize(number_of_parameters))\n",
        "features_extraction_func.append(np.vectorize(number_of_subdirectories))\n",
        "features_extraction_func.append(np.vectorize(number_of_periods))\n",
        "features_extraction_func.append(np.vectorize(num_encoded_char))\n",
        "features_extraction_func.append(np.vectorize(equal_count))\n",
        "features_extraction_func.append(np.vectorize(count_http))\n",
        "features_extraction_func.append(np.vectorize(count_https))"
      ]
    },
    {
      "cell_type": "code",
      "execution_count": null,
      "metadata": {
        "id": "W84SMQ2af39J"
      },
      "outputs": [],
      "source": [
        "def make_predictor_variables(features_extraction_func, urls):\n",
        "  \"\"\"\n",
        "    From the URLs contained in the dataset this returns all\n",
        "    the extracted features as a numpy array of\n",
        "    shape = (number of URLs, number of features).\n",
        "  \"\"\"\n",
        "  x = np.zeros(shape = (url_array.shape[0], len(features_extraction_func)))\n",
        "\n",
        "  for i, function in enumerate(features_extraction_func):\n",
        "    x[:, i] = function(urls)\n",
        "\n",
        "  return x\n",
        "\n",
        "x = make_predictor_variables(features_extraction_func, url_array)"
      ]
    },
    {
      "cell_type": "markdown",
      "metadata": {
        "id": "Wb3Lqf6g3PPq"
      },
      "source": [
        "##**Features discriminant capability evaluation**\n",
        "Now I made an analysis on the features discriminant capacibility, where i check the distribution of the features for all the classes. We the following four example we can see that:\n",
        "- On average, the number of @ in the url is very high for phishing URLs and low for the others expecially for defacement URLs.\n",
        "- On average, the url length is almost the same for all classes, a bit higher for defacement URLs.\n",
        "- On average, the URL length is higher for benign URLs and lower for other classes.\n",
        "- On average, the hostname path is very high for defacement  URLs and a bit smaller for malware URLs and lower for other classes expecially for benign URLs"
      ]
    },
    {
      "cell_type": "code",
      "execution_count": null,
      "metadata": {
        "colab": {
          "base_uri": "https://localhost:8080/",
          "height": 522
        },
        "id": "NccvbXo4XxnJ",
        "outputId": "6723d3a1-cca7-4629-c403-b081d360f90c"
      },
      "outputs": [
        {
          "data": {
            "image/png": "[encoded data removed]",
            "text/plain": [
              "<Figure size 640x480 with 4 Axes>"
            ]
          },
          "metadata": {},
          "output_type": "display_data"
        }
      ],
      "source": [
        "fig = plt.figure()\n",
        "fig.subplots_adjust(hspace=1, wspace=0.4)\n",
        "\n",
        "plot_titles = [\"count-@\", \"url-length\", \"path-len\", \"hostname-len\"]\n",
        "x_labels = np.unique(type_array)\n",
        "height_plot = np.zeros(shape = (len(plot_titles), len(x_labels)))\n",
        "x_plot = np.arange(1,5)\n",
        "\n",
        "for j in range(len(plot_titles)):\n",
        "  for i, label in enumerate(x_labels):\n",
        "    height_plot[j][i] = x[type_array == label, j+1].mean()\n",
        "\n",
        "for i in range(len(plot_titles)):\n",
        "    ax = fig.add_subplot(2, 2, i+1)\n",
        "    ax.set_title(plot_titles[i])\n",
        "    ax.set_xticks(x_plot)\n",
        "    ax.set_xticklabels(x_labels, rotation = 90)\n",
        "    ax.bar(x_plot, height_plot[i])"
      ]
    },
    {
      "cell_type": "markdown",
      "metadata": {
        "id": "MBnz-seeaSJh"
      },
      "source": [
        "##**Preprocessing and Train&Test Split**"
      ]
    },
    {
      "cell_type": "code",
      "execution_count": null,
      "metadata": {
        "id": "j2IGE1zha_e-"
      },
      "outputs": [],
      "source": [
        "# Encoding of the target labels with value between 0 and n_classes-1\n",
        "label_encoder =LabelEncoder()\n",
        "Y = label_encoder.fit_transform(type_array)\n",
        "\n",
        "# Define the scaler\n",
        "scaler = MinMaxScaler()\n",
        "\n",
        "# Train and test split\n",
        "splitter = ShuffleSplit(n_splits=10, test_size=0.5)"
      ]
    },
    {
      "cell_type": "code",
      "execution_count": null,
      "metadata": {
        "id": "OUeOvFINeG30"
      },
      "outputs": [],
      "source": [
        "def run(x, y, splitter, scaler, clf):\n",
        "    \"\"\"Take input data (x,y), split it (n times), scale it, \n",
        "    learn classifier on training data, and evaluate the mean test error.\n",
        "    \"\"\"\n",
        "    acc = np.zeros(shape=(splitter.get_n_splits(),))\n",
        "\n",
        "    for i, (tr_idx, ts_idx) in enumerate(splitter.split(x, y)):\n",
        "        xtr = x[tr_idx, :]\n",
        "        ytr = y[tr_idx]\n",
        "        xts = x[ts_idx, :]\n",
        "        yts = y[ts_idx]\n",
        "\n",
        "        xtr = scaler.fit_transform(xtr)\n",
        "        xts = scaler.transform(xts)\n",
        "\n",
        "        clf.fit(xtr, ytr)\n",
        "        ypred = clf.predict(xts)\n",
        "        acc[i] = (ypred == yts).mean()    \n",
        "    return acc"
      ]
    },
    {
      "cell_type": "markdown",
      "metadata": {
        "id": "OAEexaoceSD2"
      },
      "source": [
        "##**Models Building**"
      ]
    },
    {
      "cell_type": "markdown",
      "metadata": {
        "id": "xH3NQUeQecBy"
      },
      "source": [
        "###**Nearest Centroid Classifier**"
      ]
    },
    {
      "cell_type": "code",
      "execution_count": null,
      "metadata": {
        "colab": {
          "base_uri": "https://localhost:8080/"
        },
        "id": "_gdUAQ72ffSr",
        "outputId": "c6bce91f-6173-424b-ec98-6b7d1a994a82"
      },
      "outputs": [
        {
          "name": "stdout",
          "output_type": "stream",
          "text": [
            "Mean test accuracy: 79.7% +/- 5.3%\n",
            "Mean test error: 20.3% +/- 5.3%\n"
          ]
        }
      ],
      "source": [
        "from sklearn.neighbors import NearestCentroid\n",
        "\n",
        "clf = NearestCentroid()\n",
        "\n",
        "acc = run(x, Y, splitter, scaler, clf)\n",
        "print(\"Mean test accuracy: {:.1%} +/- {:.1%}\".format(acc.mean(), 2*acc.std()))\n",
        "print(\"Mean test error: {:.1%} +/- {:.1%}\".format(1-acc.mean(), 2*acc.std()))"
      ]
    },
    {
      "cell_type": "markdown",
      "metadata": {
        "id": "IGDvouyrgTS2"
      },
      "source": [
        "###**Gaussian Naive Bayes Classifier**"
      ]
    },
    {
      "cell_type": "code",
      "execution_count": null,
      "metadata": {
        "colab": {
          "base_uri": "https://localhost:8080/"
        },
        "id": "KeOhZhezgalo",
        "outputId": "2b4d35e9-025a-47d3-9b76-a012510083cf"
      },
      "outputs": [
        {
          "name": "stdout",
          "output_type": "stream",
          "text": [
            "Mean test accuracy: 78.3% +/- 0.1%\n",
            "Mean test error: 21.7% +/- 0.1%\n"
          ]
        }
      ],
      "source": [
        "from sklearn.naive_bayes import GaussianNB\n",
        "\n",
        "clf = GaussianNB() \n",
        "\n",
        "acc = run(x, Y, splitter, scaler, clf)\n",
        "print(\"Mean test accuracy: {:.1%} +/- {:.1%}\".format(acc.mean(), 2*acc.std()))\n",
        "print(\"Mean test error: {:.1%} +/- {:.1%}\".format(1-acc.mean(), 2*acc.std()))"
      ]
    },
    {
      "cell_type": "markdown",
      "metadata": {
        "id": "sDe2fNcJgya5"
      },
      "source": [
        "###**Random Forest Classifier**"
      ]
    },
    {
      "cell_type": "code",
      "execution_count": null,
      "metadata": {
        "colab": {
          "background_save": true
        },
        "id": "_7b4tj2HhCbd",
        "outputId": "50544284-cce7-4cd0-bd51-d641ecb957e7"
      },
      "outputs": [
        {
          "name": "stdout",
          "output_type": "stream",
          "text": [
            "Parameters Estimation\n",
            "Best parameters set found on training set: {'n_estimators': 15}\n",
            "Grid scores on training set:\n",
            "        0.953 (+/-0.002) for {'n_estimators': 5}\n",
            "        0.955 (+/-0.002) for {'n_estimators': 10}\n",
            "        0.955 (+/-0.002) for {'n_estimators': 15}\n",
            "Mean test accuracy: 95.6% +/- 0.1%\n",
            "Mean test error: 4.4% +/- 0.1%\n"
          ]
        }
      ],
      "source": [
        "from sklearn.model_selection import GridSearchCV\n",
        "from sklearn.ensemble import RandomForestClassifier\n",
        "\n",
        "clf = GridSearchCV(estimator= RandomForestClassifier(), param_grid={'n_estimators': [5, 10, 15]}) \n",
        "\n",
        "acc = run(x, Y, splitter, scaler, clf)\n",
        "\n",
        "print(\"Parameters Estimation\")\n",
        "print(\"Best parameters set found on training set:\", clf.best_params_)\n",
        "print(\"Grid scores on training set:\")\n",
        "means = clf.cv_results_['mean_test_score']\n",
        "stds = clf.cv_results_['std_test_score']\n",
        "for mean, std, params in zip(means, stds, clf.cv_results_['params']):\n",
        "    print(\"        %0.3f (+/-%0.03f) for %r\" % (mean, std * 2, params))\n",
        "\n",
        "print(\"Mean test accuracy: {:.1%} +/- {:.1%}\".format(acc.mean(), 2*acc.std()))\n",
        "print(\"Mean test error: {:.1%} +/- {:.1%}\".format(1-acc.mean(), 2*acc.std()))"
      ]
    },
    {
      "cell_type": "markdown",
      "metadata": {
        "id": "_F-fdagqyYNi"
      },
      "source": [
        "###**K Nearest Neighbours classifiers**"
      ]
    },
    {
      "cell_type": "code",
      "execution_count": 64,
      "metadata": {
        "id": "PFNFIZT0H2sP",
        "colab": {
          "base_uri": "https://localhost:8080/"
        },
        "outputId": "aad11fdd-e65a-4044-be52-8a24428f3a6c"
      },
      "outputs": [
        {
          "output_type": "stream",
          "name": "stdout",
          "text": [
            "Test accuracy: 95.0%\n",
            "Test error: 5.0%\n"
          ]
        }
      ],
      "source": [
        "from sklearn.neighbors import KNeighborsClassifier\n",
        "from sklearn.model_selection import train_test_split\n",
        "\n",
        "clf = KNeighborsClassifier()\n",
        "\n",
        "x_train, x_test, y_train, y_test = train_test_split(x, Y, train_size = 0.5, test_size= 0.5)\n",
        "\n",
        "x_train = scaler.fit_transform(x_train)\n",
        "x_test = scaler.transform(x_test)\n",
        "\n",
        "clf.fit(x_train, y_train)\n",
        "y_pred  = clf.predict(x_test)\n",
        "acc = (y_pred == y_test).mean()\n",
        "print(\"Test accuracy: {:.1%}\".format(acc))\n",
        "print(\"Test error: {:.1%}\".format(1-acc))"
      ]
    }
  ],
  "metadata": {
    "colab": {
      "provenance": [],
      "authorship_tag": "ABX9TyMdx4Ube6kTD8G+NWCxHbw3",
      "include_colab_link": true
    },
    "kernelspec": {
      "display_name": "Python 3",
      "name": "python3"
    },
    "language_info": {
      "name": "python"
    }
  },
  "nbformat": 4,
  "nbformat_minor": 0
}