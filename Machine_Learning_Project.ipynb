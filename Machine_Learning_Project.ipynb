{
  "nbformat": 4,
  "nbformat_minor": 0,
  "metadata": {
    "colab": {
      "provenance": [],
      "mount_file_id": "1kdBfPV1TC0FB4h9GCG_0Zq_QkZYMbuYu",
      "authorship_tag": "ABX9TyNi8SDjDqjyGHBspI2ScrC1",
      "include_colab_link": true
    },
    "kernelspec": {
      "name": "python3",
      "display_name": "Python 3"
    },
    "language_info": {
      "name": "python"
    }
  },
  "cells": [
    {
      "cell_type": "markdown",
      "metadata": {
        "id": "view-in-github",
        "colab_type": "text"
      },
      "source": [
        "<a href=\"https://colab.research.google.com/github/saugabriele/Machine_Learning_Project/blob/main/Machine_Learning_Project.ipynb\" target=\"_parent\"><img src=\"https://colab.research.google.com/assets/colab-badge.svg\" alt=\"Open In Colab\"/></a>"
      ]
    },
    {
      "cell_type": "markdown",
      "source": [
        "#**Malicious Url Detector Project**\n",
        "To develop a classifier for detecting malicious URLs, the project started with a dataset containing a few URLs. In this case I tried to create a multiclass classifier that can classify a URL like:\n",
        "- **Benign**: These are safe to browse URLs.\n",
        "- **Phishing**: By creating phishing URLs, hackers try to steal sensitive personal or financial information such as login credentials\n",
        "- **Malware**:These type of URLs inject malware into the victim’s system once he/she visit such URLs.\n",
        "- **Defacement**: Defacement URLs are generally created by hackers with the intention of breaking into a web server and replacing the hosted website with one of their own"
      ],
      "metadata": {
        "id": "xw37Yu58D00h"
      }
    },
    {
      "cell_type": "code",
      "execution_count": 20,
      "metadata": {
        "id": "77h6q_E2dzBg"
      },
      "outputs": [],
      "source": [
        "import pandas as pd\n",
        "import numpy as np\n",
        "import re\n",
        "from urllib.parse import urlparse"
      ]
    },
    {
      "cell_type": "code",
      "source": [
        "#Create a DataFrame from the dataset csv file\n",
        "df = pd.read_csv(\"/content/drive/MyDrive/malicious_phish1.csv\")\n",
        "df.head()"
      ],
      "metadata": {
        "colab": {
          "base_uri": "https://localhost:8080/",
          "height": 206
        },
        "id": "QhHerv7xfPAO",
        "outputId": "5a0dd742-5bfb-4c85-fc0d-85dfdb692a57"
      },
      "execution_count": 21,
      "outputs": [
        {
          "output_type": "execute_result",
          "data": {
            "text/plain": [
              "                                                 url        type\n",
              "0                                   br-icloud.com.br    phishing\n",
              "1                mp3raid.com/music/krizz_kaliko.html      benign\n",
              "2                    bopsecrets.org/rexroth/cr/1.htm      benign\n",
              "3  http://www.garage-pirenne.be/index.php?option=...  defacement\n",
              "4  http://adventure-nicaragua.net/index.php?optio...  defacement"
            ],
            "text/html": [
              "\n",
              "  <div id=\"df-8097bdb5-4fc2-49a8-9a5b-532598277fc1\">\n",
              "    <div class=\"colab-df-container\">\n",
              "      <div>\n",
              "<style scoped>\n",
              "    .dataframe tbody tr th:only-of-type {\n",
              "        vertical-align: middle;\n",
              "    }\n",
              "\n",
              "    .dataframe tbody tr th {\n",
              "        vertical-align: top;\n",
              "    }\n",
              "\n",
              "    .dataframe thead th {\n",
              "        text-align: right;\n",
              "    }\n",
              "</style>\n",
              "<table border=\"1\" class=\"dataframe\">\n",
              "  <thead>\n",
              "    <tr style=\"text-align: right;\">\n",
              "      <th></th>\n",
              "      <th>url</th>\n",
              "      <th>type</th>\n",
              "    </tr>\n",
              "  </thead>\n",
              "  <tbody>\n",
              "    <tr>\n",
              "      <th>0</th>\n",
              "      <td>br-icloud.com.br</td>\n",
              "      <td>phishing</td>\n",
              "    </tr>\n",
              "    <tr>\n",
              "      <th>1</th>\n",
              "      <td>mp3raid.com/music/krizz_kaliko.html</td>\n",
              "      <td>benign</td>\n",
              "    </tr>\n",
              "    <tr>\n",
              "      <th>2</th>\n",
              "      <td>bopsecrets.org/rexroth/cr/1.htm</td>\n",
              "      <td>benign</td>\n",
              "    </tr>\n",
              "    <tr>\n",
              "      <th>3</th>\n",
              "      <td>http://www.garage-pirenne.be/index.php?option=...</td>\n",
              "      <td>defacement</td>\n",
              "    </tr>\n",
              "    <tr>\n",
              "      <th>4</th>\n",
              "      <td>http://adventure-nicaragua.net/index.php?optio...</td>\n",
              "      <td>defacement</td>\n",
              "    </tr>\n",
              "  </tbody>\n",
              "</table>\n",
              "</div>\n",
              "      <button class=\"colab-df-convert\" onclick=\"convertToInteractive('df-8097bdb5-4fc2-49a8-9a5b-532598277fc1')\"\n",
              "              title=\"Convert this dataframe to an interactive table.\"\n",
              "              style=\"display:none;\">\n",
              "        \n",
              "  <svg xmlns=\"http://www.w3.org/2000/svg\" height=\"24px\"viewBox=\"0 0 24 24\"\n",
              "       width=\"24px\">\n",
              "    <path d=\"M0 0h24v24H0V0z\" fill=\"none\"/>\n",
              "    <path d=\"M18.56 5.44l.94 2.06.94-2.06 2.06-.94-2.06-.94-.94-2.06-.94 2.06-2.06.94zm-11 1L8.5 8.5l.94-2.06 2.06-.94-2.06-.94L8.5 2.5l-.94 2.06-2.06.94zm10 10l.94 2.06.94-2.06 2.06-.94-2.06-.94-.94-2.06-.94 2.06-2.06.94z\"/><path d=\"M17.41 7.96l-1.37-1.37c-.4-.4-.92-.59-1.43-.59-.52 0-1.04.2-1.43.59L10.3 9.45l-7.72 7.72c-.78.78-.78 2.05 0 2.83L4 21.41c.39.39.9.59 1.41.59.51 0 1.02-.2 1.41-.59l7.78-7.78 2.81-2.81c.8-.78.8-2.07 0-2.86zM5.41 20L4 18.59l7.72-7.72 1.47 1.35L5.41 20z\"/>\n",
              "  </svg>\n",
              "      </button>\n",
              "      \n",
              "  <style>\n",
              "    .colab-df-container {\n",
              "      display:flex;\n",
              "      flex-wrap:wrap;\n",
              "      gap: 12px;\n",
              "    }\n",
              "\n",
              "    .colab-df-convert {\n",
              "      background-color: #E8F0FE;\n",
              "      border: none;\n",
              "      border-radius: 50%;\n",
              "      cursor: pointer;\n",
              "      display: none;\n",
              "      fill: #1967D2;\n",
              "      height: 32px;\n",
              "      padding: 0 0 0 0;\n",
              "      width: 32px;\n",
              "    }\n",
              "\n",
              "    .colab-df-convert:hover {\n",
              "      background-color: #E2EBFA;\n",
              "      box-shadow: 0px 1px 2px rgba(60, 64, 67, 0.3), 0px 1px 3px 1px rgba(60, 64, 67, 0.15);\n",
              "      fill: #174EA6;\n",
              "    }\n",
              "\n",
              "    [theme=dark] .colab-df-convert {\n",
              "      background-color: #3B4455;\n",
              "      fill: #D2E3FC;\n",
              "    }\n",
              "\n",
              "    [theme=dark] .colab-df-convert:hover {\n",
              "      background-color: #434B5C;\n",
              "      box-shadow: 0px 1px 3px 1px rgba(0, 0, 0, 0.15);\n",
              "      filter: drop-shadow(0px 1px 2px rgba(0, 0, 0, 0.3));\n",
              "      fill: #FFFFFF;\n",
              "    }\n",
              "  </style>\n",
              "\n",
              "      <script>\n",
              "        const buttonEl =\n",
              "          document.querySelector('#df-8097bdb5-4fc2-49a8-9a5b-532598277fc1 button.colab-df-convert');\n",
              "        buttonEl.style.display =\n",
              "          google.colab.kernel.accessAllowed ? 'block' : 'none';\n",
              "\n",
              "        async function convertToInteractive(key) {\n",
              "          const element = document.querySelector('#df-8097bdb5-4fc2-49a8-9a5b-532598277fc1');\n",
              "          const dataTable =\n",
              "            await google.colab.kernel.invokeFunction('convertToInteractive',\n",
              "                                                     [key], {});\n",
              "          if (!dataTable) return;\n",
              "\n",
              "          const docLinkHtml = 'Like what you see? Visit the ' +\n",
              "            '<a target=\"_blank\" href=https://colab.research.google.com/notebooks/data_table.ipynb>data table notebook</a>'\n",
              "            + ' to learn more about interactive tables.';\n",
              "          element.innerHTML = '';\n",
              "          dataTable['output_type'] = 'display_data';\n",
              "          await google.colab.output.renderOutput(dataTable, element);\n",
              "          const docLink = document.createElement('div');\n",
              "          docLink.innerHTML = docLinkHtml;\n",
              "          element.appendChild(docLink);\n",
              "        }\n",
              "      </script>\n",
              "    </div>\n",
              "  </div>\n",
              "  "
            ]
          },
          "metadata": {},
          "execution_count": 21
        }
      ]
    },
    {
      "cell_type": "code",
      "source": [
        "#Convert the DataFrame in numpy arrays\n",
        "url_array = df['url'].to_numpy()\n",
        "type_array = df['type'].to_numpy()"
      ],
      "metadata": {
        "id": "lBMnTEQzfYeo"
      },
      "execution_count": 22,
      "outputs": []
    },
    {
      "cell_type": "markdown",
      "source": [
        "##**Features Extraction**\n",
        "To determine the class label of an URL, the first step was selecting the features that can be extracted from an URL. In this case i decided to extract some lexical features:\n",
        "- These refer to statistical features extracted from the literal URL string. For example, length of the URL string, number of digits, number of parameters in its query part, if the URL is encoded, etc."
      ],
      "metadata": {
        "id": "cXfkrRc9GtR_"
      }
    },
    {
      "cell_type": "code",
      "source": [
        "def www_count(url):\n",
        "  return url.count('www')\n",
        "\n",
        "wwwCount = np.vectorize(www_count)\n",
        "\n",
        "result = wwwCount(url_array)\n",
        "print(result)\n",
        "print(result.shape[0])\n",
        "print(np.unique(result))\n",
        "x = np.zeros(shape = (result.shape[0], 1))\n",
        "x[:, 0] = result\n",
        "print(np.shape(x))\n",
        "from sklearn.preprocessing import MinMaxScaler\n",
        "scaler = MinMaxScaler()\n",
        "\n",
        "xtr = scaler.fit_transform(x)\n",
        "print(np.shape(xtr))\n",
        "print(np.unique(xtr))"
      ],
      "metadata": {
        "colab": {
          "base_uri": "https://localhost:8080/"
        },
        "id": "m_ovB5Heg_Mn",
        "outputId": "bdd4d6b8-7dd4-4430-bca6-394776272c7f"
      },
      "execution_count": 4,
      "outputs": [
        {
          "output_type": "stream",
          "name": "stdout",
          "text": [
            "[0 0 0 ... 1 0 1]\n",
            "651191\n",
            "[0 1 2 3 4 5]\n",
            "(651191, 1)\n",
            "(651191, 1)\n",
            "[0.  0.2 0.4 0.6 0.8 1. ]\n"
          ]
        }
      ]
    },
    {
      "cell_type": "code",
      "source": [
        "def at_count(url):\n",
        "  return url.count('@')\n",
        "\n",
        "atCount = np.vectorize(at_count)\n",
        "\n",
        "result = atCount(url_array)\n",
        "print(result)\n",
        "print(result.shape[0])\n",
        "print(np.unique(result))"
      ],
      "metadata": {
        "colab": {
          "base_uri": "https://localhost:8080/"
        },
        "id": "X_moLslThBIv",
        "outputId": "4d4a3e42-2e75-4fd0-b034-9bc43d082230"
      },
      "execution_count": 5,
      "outputs": [
        {
          "output_type": "stream",
          "name": "stdout",
          "text": [
            "[0 0 0 ... 0 0 0]\n",
            "651191\n",
            "[ 0  1  2  3  4  6 10]\n"
          ]
        }
      ]
    },
    {
      "cell_type": "code",
      "source": [
        "def url_lenght(url):\n",
        "  return len(url)\n",
        "\n",
        "urlLength = np.vectorize(url_lenght)\n",
        "result = urlLength(url_array)\n",
        "print(result)\n",
        "print(result.shape[0])"
      ],
      "metadata": {
        "colab": {
          "base_uri": "https://localhost:8080/"
        },
        "id": "pHYtGfDLhFre",
        "outputId": "68a1c769-aaed-4fb1-c7b5-d183546e7b39"
      },
      "execution_count": 6,
      "outputs": [
        {
          "output_type": "stream",
          "name": "stdout",
          "text": [
            "[16 35 31 ... 42 45 41]\n",
            "651191\n"
          ]
        }
      ]
    },
    {
      "cell_type": "code",
      "source": [
        "def url_path_len(url):\n",
        "  url_parse = urlparse(url)\n",
        "  return len(url_parse.path)\n",
        "\n",
        "urlPathLength = np.vectorize(url_path_len)\n",
        "result_1 = urlPathLength(url_array)\n",
        "print(result_1)\n",
        "print(result_1.shape[0])"
      ],
      "metadata": {
        "colab": {
          "base_uri": "https://localhost:8080/"
        },
        "id": "Oiy9jW9ck8a_",
        "outputId": "d7be0032-7ed6-4631-a159-31638e100d3f"
      },
      "execution_count": 7,
      "outputs": [
        {
          "output_type": "stream",
          "name": "stdout",
          "text": [
            "[16 35 31 ... 42 45 41]\n",
            "651191\n"
          ]
        }
      ]
    },
    {
      "cell_type": "code",
      "source": [
        "def host_len(url):\n",
        "  url_parse = urlparse(url)\n",
        "  return len(url_parse.netloc)\n",
        "\n",
        "hostLength = np.vectorize(host_len)\n",
        "result = hostLength(url_array)\n",
        "print(result)\n",
        "print(result.shape[0])"
      ],
      "metadata": {
        "colab": {
          "base_uri": "https://localhost:8080/"
        },
        "id": "NnuDR2thqEMB",
        "outputId": "8186b8ab-19b9-40b3-b59e-d0894dfa54be"
      },
      "execution_count": 8,
      "outputs": [
        {
          "output_type": "stream",
          "name": "stdout",
          "text": [
            "[0 0 0 ... 0 0 0]\n",
            "651191\n"
          ]
        }
      ]
    },
    {
      "cell_type": "code",
      "source": [
        "def url_host_is_ip(url):\n",
        "  url = urlparse(url)\n",
        "  reg = r\"^(([0-9]|[1-9][0-9]|1[0-9]{2}|2[0-4][0-9]|25[0-5])\\.){3}([0-9]|[1-9][0-9]|1[0-9]{2}|2[0-4][0-9]|25[0-5])$\"\n",
        "  if re.match(reg, url.netloc):\n",
        "      return 1\n",
        "  else:\n",
        "      return 0\n",
        "\n",
        "#print(url_host_is_ip('http://paypal.com.cgi-bin-websc5.b4d80a13c0a2116480.ee0r-cmd-login-submit-dispatch-'))\n",
        "#print(url_host_is_ip(\"http://95.154.196.187/broser/6716804bc5a91f707a34479012dad47c/\"))\n",
        "\n",
        "hostIsIp = np.vectorize(url_host_is_ip)\n",
        "result = hostIsIp(url_array)\n",
        "print(result)\n",
        "print(result.shape[0])"
      ],
      "metadata": {
        "colab": {
          "base_uri": "https://localhost:8080/"
        },
        "id": "mMIYMBpou206",
        "outputId": "aadecd49-a3d4-4ffc-8dc8-d4a8f9ae5769"
      },
      "execution_count": 9,
      "outputs": [
        {
          "output_type": "stream",
          "name": "stdout",
          "text": [
            "[0 0 0 ... 0 0 0]\n",
            "651191\n"
          ]
        }
      ]
    },
    {
      "cell_type": "code",
      "source": [
        "def number_of_digits(url):\n",
        "  digits = [i for i in url if i.isdigit()]\n",
        "  return len(digits)\n",
        "\n",
        "numberDigits = np.vectorize(number_of_digits)\n",
        "result_1 = numberDigits(url_array)\n",
        "print(result_1)\n",
        "print(result_1.shape[0])"
      ],
      "metadata": {
        "colab": {
          "base_uri": "https://localhost:8080/"
        },
        "id": "NyXXL5dD2ZLs",
        "outputId": "852816e6-74cf-4052-ec31-34527fe4d6d6"
      },
      "execution_count": 10,
      "outputs": [
        {
          "output_type": "stream",
          "name": "stdout",
          "text": [
            "[0 1 1 ... 3 0 0]\n",
            "651191\n"
          ]
        }
      ]
    },
    {
      "cell_type": "code",
      "source": [
        "def number_of_parameters(url):\n",
        "  params = urlparse(url).query\n",
        "  return 0 if params == '' else len(params.split('&'))\n",
        "\n",
        "numberParams = np.vectorize(number_of_parameters)\n",
        "result = numberParams(url_array)\n",
        "print(result)\n",
        "print(result.shape[0])"
      ],
      "metadata": {
        "colab": {
          "base_uri": "https://localhost:8080/"
        },
        "id": "Cq6yixxI3O7E",
        "outputId": "5400249a-e812-4ae3-b9e4-68de08de0ce7"
      },
      "execution_count": 11,
      "outputs": [
        {
          "output_type": "stream",
          "name": "stdout",
          "text": [
            "[0 0 0 ... 0 0 0]\n",
            "651191\n"
          ]
        }
      ]
    },
    {
      "cell_type": "code",
      "source": [
        "def number_of_subdirectories(url):\n",
        "  d = urlparse(url).path.split('/')\n",
        "  return len(d) - 1\n",
        "\n",
        "numberSubDirectories = np.vectorize(number_of_subdirectories)\n",
        "result = numberSubDirectories(url_array)\n",
        "print(result)\n",
        "print(result.shape[0])\n",
        "#print(np.unique(result))\n",
        "#print(np.where(result == 10))\n",
        "#print(urlparse(url_array[608]).path)"
      ],
      "metadata": {
        "colab": {
          "base_uri": "https://localhost:8080/"
        },
        "id": "E23LYI1v4oR_",
        "outputId": "fbf6ca81-2d19-441e-aa7f-0d0996b3a933"
      },
      "execution_count": 12,
      "outputs": [
        {
          "output_type": "stream",
          "name": "stdout",
          "text": [
            "[0 2 3 ... 4 2 3]\n",
            "651191\n"
          ]
        }
      ]
    },
    {
      "cell_type": "code",
      "source": [
        "def number_of_periods(url):\n",
        "  return url.count('.')\n",
        "\n",
        "numberPeriods = np.vectorize(number_of_periods)\n",
        "result = numberPeriods(url_array)\n",
        "print(result)\n",
        "print(result.shape[0])\n",
        "print(np.unique(result))"
      ],
      "metadata": {
        "colab": {
          "base_uri": "https://localhost:8080/"
        },
        "id": "yW7FDhbr_vTr",
        "outputId": "1fab46a5-d51d-43ae-e6ff-bd1f0b482cf4"
      },
      "execution_count": 13,
      "outputs": [
        {
          "output_type": "stream",
          "name": "stdout",
          "text": [
            "[2 2 2 ... 2 2 2]\n",
            "651191\n",
            "[ 0  1  2  3  4  5  6  7  8  9 10 11 12 13 14 15 16 17 18 19 20 21 22 23\n",
            " 24 25 26 27 28 31 34 35 36 37 42]\n"
          ]
        }
      ]
    },
    {
      "cell_type": "code",
      "source": [
        "def num_encoded_char(url):\n",
        "  return url.count('%')\n",
        "\n",
        "numberEncodedChar = np.vectorize(num_encoded_char)\n",
        "result = numberEncodedChar(url_array)\n",
        "print(result)\n",
        "print(result.shape[0])\n",
        "print(np.unique(result))"
      ],
      "metadata": {
        "colab": {
          "base_uri": "https://localhost:8080/"
        },
        "id": "t9N0M2p-GLiF",
        "outputId": "705700f9-4084-413a-b82c-26f5034357bd"
      },
      "execution_count": 14,
      "outputs": [
        {
          "output_type": "stream",
          "name": "stdout",
          "text": [
            "[0 0 0 ... 0 0 0]\n",
            "651191\n",
            "[  0   1   2   3   4   5   6   7   8   9  10  11  12  13  14  15  16  17\n",
            "  18  19  20  21  22  23  24  25  26  27  28  29  30  31  32  33  34  35\n",
            "  36  37  38  39  40  41  42  43  44  45  46  47  48  49  50  51  52  53\n",
            "  54  55  56  57  58  59  60  61  62  63  64  65  66  67  68  69  70  71\n",
            "  72  74  75  76  77  78  80  82  83  84  86  87  88  89  90  92  93  94\n",
            "  95  96  98 100 101 102 104 106 107 108 110 112 113 114 116 118 119 120\n",
            " 122 126 128 130 132 133 134 142 144 146 147 149 150 198 201 231]\n"
          ]
        }
      ]
    },
    {
      "cell_type": "code",
      "source": [
        "def equal_count(url):\n",
        "    return url.count('=')\n",
        "\n",
        "numberEquals = np.vectorize(equal_count)\n",
        "result = numberEquals(url_array)\n",
        "print(result)\n",
        "print(result.shape[0])\n",
        "print(np.unique(result))"
      ],
      "metadata": {
        "colab": {
          "base_uri": "https://localhost:8080/"
        },
        "id": "eGauO_wjF9HT",
        "outputId": "08bef58d-5efb-4ef5-b9ce-a98d17150217"
      },
      "execution_count": 15,
      "outputs": [
        {
          "output_type": "stream",
          "name": "stdout",
          "text": [
            "[0 0 0 ... 0 0 0]\n",
            "651191\n",
            "[ 0  1  2  3  4  5  6  7  8  9 10 11 12 13 14 15 16 17 18 19 20 21 22 24\n",
            " 26 28 29 34 39 51]\n"
          ]
        }
      ]
    },
    {
      "cell_type": "code",
      "source": [
        "def count_http(url):\n",
        "    return url.count('http')\n",
        "\n",
        "numberHttp = np.vectorize(count_http)\n",
        "result = numberHttp(url_array)\n",
        "print(result)\n",
        "print(result.shape[0])\n",
        "print(np.unique(result))"
      ],
      "metadata": {
        "colab": {
          "base_uri": "https://localhost:8080/"
        },
        "id": "dzeuP1dHG-QD",
        "outputId": "f1677efa-780e-4990-9b41-bf7b5e7fe0ec"
      },
      "execution_count": 16,
      "outputs": [
        {
          "output_type": "stream",
          "name": "stdout",
          "text": [
            "[0 0 0 ... 0 0 0]\n",
            "651191\n",
            "[0 1 2 3 4 5 6 9]\n"
          ]
        }
      ]
    },
    {
      "cell_type": "code",
      "source": [
        "def count_https(url):\n",
        "    return url.count('https')\n",
        "\n",
        "numberHttps = np.vectorize(count_https)\n",
        "result = numberHttps(url_array)\n",
        "print(result)\n",
        "print(result.shape[0])\n",
        "print(np.unique(result))\n",
        "\n",
        "function = []\n",
        "function.append(np.vectorize(count_https))\n",
        "result_10 = function[0](url_array)\n",
        "print(result_10)\n",
        "print(result_10.shape[0])\n",
        "print(np.unique(result == result_10))"
      ],
      "metadata": {
        "colab": {
          "base_uri": "https://localhost:8080/"
        },
        "id": "GEUqGtrvHNWR",
        "outputId": "6b9aa52b-d179-4f3b-e773-3491950825e1"
      },
      "execution_count": 25,
      "outputs": [
        {
          "output_type": "stream",
          "name": "stdout",
          "text": [
            "[0 0 0 ... 0 0 0]\n",
            "651191\n",
            "[0 1 2 3 4 5]\n",
            "[0 0 0 ... 0 0 0]\n",
            "651191\n",
            "[ True]\n"
          ]
        }
      ]
    },
    {
      "cell_type": "code",
      "source": [
        "def www_count(url):\n",
        "  \"\"\"\n",
        "    From the input URL this will return the number of \n",
        "    occurrences of the substring 'www'.\n",
        "  \"\"\"\n",
        "  return url.count('www')\n",
        "\n",
        "def at_count(url):\n",
        "  \"\"\"\n",
        "    From the input URL this will return the number of \n",
        "    occurrences of the substring '@'.\n",
        "  \"\"\"\n",
        "  return url.count('@')\n",
        "\n",
        "def url_lenght(url):\n",
        "  \"\"\"\n",
        "    From the input URL this will return the\n",
        "    corresponding length\n",
        "  \"\"\"\n",
        "  return len(url)\n",
        "\n",
        "def url_path_len(url):\n",
        "  \"\"\"\n",
        "    From the input URL this will return the length\n",
        "    of the path where the resource is located.\n",
        "  \"\"\"\n",
        "  url_parse = urlparse(url)\n",
        "  return len(url_parse.path)\n",
        "\n",
        "def host_len(url):\n",
        "  \"\"\"\n",
        "     From the input URL this will return the length\n",
        "     of the hostname.\n",
        "  \"\"\"\n",
        "  url_parse = urlparse(url)\n",
        "  return len(url_parse.netloc)\n",
        "\n",
        "def url_host_is_ip(url):\n",
        "  \"\"\"\n",
        "    From the input URL this will return 1 if the hostname\n",
        "    contains the IP adress otherwise it returns 0 if it\n",
        "    contains the domain name where the resource is located.\n",
        "  \"\"\"\n",
        "  url = urlparse(url)\n",
        "  reg = r\"^(([0-9]|[1-9][0-9]|1[0-9]{2}|2[0-4][0-9]|25[0-5])\\.){3}([0-9]|[1-9][0-9]|1[0-9]{2}|2[0-4][0-9]|25[0-5])$\"\n",
        "  if re.match(reg, url.netloc):\n",
        "      return 1\n",
        "  else:\n",
        "      return 0\n",
        "\n",
        "def number_of_digits(url):\n",
        "  \"\"\"\n",
        "    From the input URL this will return the number of \n",
        "    digits in the URL.\n",
        "  \"\"\"\n",
        "  digits = [i for i in url if i.isdigit()]\n",
        "  return len(digits)\n",
        "\n",
        "def number_of_parameters(url):\n",
        "  \"\"\"\n",
        "    From the input URL this will return the number of\n",
        "    parameters contained in the URL.\n",
        "  \"\"\"\n",
        "  params = urlparse(url).query\n",
        "  return 0 if params == '' else len(params.split('&'))\n",
        "\n",
        "def number_of_subdirectories(url):\n",
        "  \"\"\"\n",
        "    From the input URL this will return the number of\n",
        "    subdirectories in the path of the URL.\n",
        "  \"\"\"\n",
        "  d = urlparse(url).path.split('/')\n",
        "  return len(d) - 1\n",
        "\n",
        "def number_of_periods(url):\n",
        "  \"\"\"\n",
        "    From the input URL this will return the number of\n",
        "    periods in the URL.\n",
        "  \"\"\"\n",
        "  return url.count('.')\n",
        "\n",
        "def num_encoded_char(url):\n",
        "  \"\"\"\n",
        "    From the input URL this will return the number of\n",
        "    encoded characters in the URL.\n",
        "  \"\"\"\n",
        "  return url.count('%')\n",
        "\n",
        "def equal_count(url):\n",
        "  \"\"\"\n",
        "    From the input URL this will return the number of\n",
        "    variable values passed from one form page to another.\n",
        "  \"\"\"\n",
        "  return url.count('=')\n",
        "\n",
        "def count_http(url):\n",
        "  \"\"\"\n",
        "    From the input URL this will return the number of \n",
        "    occurrences of the substring 'http'.\n",
        "  \"\"\"\n",
        "  return url.count('http')\n",
        "\n",
        "def count_https(url):\n",
        "  \"\"\"\n",
        "    From the input URL this will return the number of \n",
        "    occurrences of the substring 'https'.\n",
        "  \"\"\"\n",
        "  return url.count('https')\n",
        "\n",
        "features_extraction_functions = []\n",
        "features_extraction_functions.append(np.vectorize(www_count))\n",
        "features_extraction_functions.append(np.vectorize(at_count))\n",
        "features_extraction_functions.append(np.vectorize(url_lenght))\n",
        "features_extraction_functions.append(np.vectorize(url_path_len))\n",
        "features_extraction_functions.append(np.vectorize(host_len))\n",
        "features_extraction_functions.append(np.vectorize(url_host_is_ip))\n",
        "features_extraction_functions.append(np.vectorize(number_of_digits))\n",
        "features_extraction_functions.append(np.vectorize(number_of_parameters))\n",
        "features_extraction_functions.append(np.vectorize(number_of_subdirectories))\n",
        "features_extraction_functions.append(np.vectorize(number_of_periods))\n",
        "features_extraction_functions.append(np.vectorize(num_encoded_char))\n",
        "features_extraction_functions.append(np.vectorize(equal_count))\n",
        "features_extraction_functions.append(np.vectorize(count_http))\n",
        "features_extraction_functions.append(np.vectorize(count_https))"
      ],
      "metadata": {
        "id": "EWTluqxNS6ZN"
      },
      "execution_count": 28,
      "outputs": []
    }
  ]
}