{
  "nbformat": 4,
  "nbformat_minor": 0,
  "metadata": {
    "colab": {
      "provenance": [],
      "authorship_tag": "ABX9TyPlzy8Q4ax76Jla1gyojCoy",
      "include_colab_link": true
    },
    "kernelspec": {
      "name": "python3",
      "display_name": "Python 3"
    },
    "language_info": {
      "name": "python"
    }
  },
  "cells": [
    {
      "cell_type": "markdown",
      "metadata": {
        "id": "view-in-github",
        "colab_type": "text"
      },
      "source": [
        "<a href=\"https://colab.research.google.com/github/saugabriele/Machine_Learning_Project/blob/main/Machine_Learning_Project.ipynb\" target=\"_parent\"><img src=\"https://colab.research.google.com/assets/colab-badge.svg\" alt=\"Open In Colab\"/></a>"
      ]
    },
    {
      "cell_type": "markdown",
      "source": [
        "#**Malicious Url Detector Project**\n",
        "To develop a classifier for detecting malicious URLs, the project started with a dataset containing a few URLs. In this case I tried to create a multiclass classifier that can classify a URL like:\n",
        "- **Benign**: These are safe to browse URLs.\n",
        "- **Phishing**: By creating phishing URLs, hackers try to steal sensitive personal or financial information such as login credentials\n",
        "- **Malware**:These type of URLs inject malware into the victim’s system once he/she visit such URLs.\n",
        "- **Defacement**: Defacement URLs are generally created by hackers with the intention of breaking into a web server and replacing the hosted website with one of their own"
      ],
      "metadata": {
        "id": "xw37Yu58D00h"
      }
    },
    {
      "cell_type": "code",
      "execution_count": 21,
      "metadata": {
        "id": "77h6q_E2dzBg"
      },
      "outputs": [],
      "source": [
        "import pandas as pd\n",
        "import numpy as np\n",
        "import re\n",
        "from urllib.parse import urlparse\n",
        "import matplotlib.pyplot as plt \n",
        "from sklearn.preprocessing import MinMaxScaler, LabelEncoder"
      ]
    },
    {
      "cell_type": "code",
      "source": [
        "#Create a DataFrame from the dataset csv file\n",
        "df = pd.read_csv(\"https://raw.githubusercontent.com/saugabriele/Machine_Learning_Project/main/malicious_phish1.csv\")\n",
        "df.head()"
      ],
      "metadata": {
        "colab": {
          "base_uri": "https://localhost:8080/",
          "height": 206
        },
        "id": "QhHerv7xfPAO",
        "outputId": "8d120542-5690-405c-e1f4-e67354517671"
      },
      "execution_count": 22,
      "outputs": [
        {
          "output_type": "execute_result",
          "data": {
            "text/plain": [
              "                                                 url        type\n",
              "0                                   br-icloud.com.br    phishing\n",
              "1                mp3raid.com/music/krizz_kaliko.html      benign\n",
              "2                    bopsecrets.org/rexroth/cr/1.htm      benign\n",
              "3  http://www.garage-pirenne.be/index.php?option=...  defacement\n",
              "4  http://adventure-nicaragua.net/index.php?optio...  defacement"
            ],
            "text/html": [
              "\n",
              "  <div id=\"df-5d57085d-a6e5-40ee-a051-271bfdc8a818\">\n",
              "    <div class=\"colab-df-container\">\n",
              "      <div>\n",
              "<style scoped>\n",
              "    .dataframe tbody tr th:only-of-type {\n",
              "        vertical-align: middle;\n",
              "    }\n",
              "\n",
              "    .dataframe tbody tr th {\n",
              "        vertical-align: top;\n",
              "    }\n",
              "\n",
              "    .dataframe thead th {\n",
              "        text-align: right;\n",
              "    }\n",
              "</style>\n",
              "<table border=\"1\" class=\"dataframe\">\n",
              "  <thead>\n",
              "    <tr style=\"text-align: right;\">\n",
              "      <th></th>\n",
              "      <th>url</th>\n",
              "      <th>type</th>\n",
              "    </tr>\n",
              "  </thead>\n",
              "  <tbody>\n",
              "    <tr>\n",
              "      <th>0</th>\n",
              "      <td>br-icloud.com.br</td>\n",
              "      <td>phishing</td>\n",
              "    </tr>\n",
              "    <tr>\n",
              "      <th>1</th>\n",
              "      <td>mp3raid.com/music/krizz_kaliko.html</td>\n",
              "      <td>benign</td>\n",
              "    </tr>\n",
              "    <tr>\n",
              "      <th>2</th>\n",
              "      <td>bopsecrets.org/rexroth/cr/1.htm</td>\n",
              "      <td>benign</td>\n",
              "    </tr>\n",
              "    <tr>\n",
              "      <th>3</th>\n",
              "      <td>http://www.garage-pirenne.be/index.php?option=...</td>\n",
              "      <td>defacement</td>\n",
              "    </tr>\n",
              "    <tr>\n",
              "      <th>4</th>\n",
              "      <td>http://adventure-nicaragua.net/index.php?optio...</td>\n",
              "      <td>defacement</td>\n",
              "    </tr>\n",
              "  </tbody>\n",
              "</table>\n",
              "</div>\n",
              "      <button class=\"colab-df-convert\" onclick=\"convertToInteractive('df-5d57085d-a6e5-40ee-a051-271bfdc8a818')\"\n",
              "              title=\"Convert this dataframe to an interactive table.\"\n",
              "              style=\"display:none;\">\n",
              "        \n",
              "  <svg xmlns=\"http://www.w3.org/2000/svg\" height=\"24px\"viewBox=\"0 0 24 24\"\n",
              "       width=\"24px\">\n",
              "    <path d=\"M0 0h24v24H0V0z\" fill=\"none\"/>\n",
              "    <path d=\"M18.56 5.44l.94 2.06.94-2.06 2.06-.94-2.06-.94-.94-2.06-.94 2.06-2.06.94zm-11 1L8.5 8.5l.94-2.06 2.06-.94-2.06-.94L8.5 2.5l-.94 2.06-2.06.94zm10 10l.94 2.06.94-2.06 2.06-.94-2.06-.94-.94-2.06-.94 2.06-2.06.94z\"/><path d=\"M17.41 7.96l-1.37-1.37c-.4-.4-.92-.59-1.43-.59-.52 0-1.04.2-1.43.59L10.3 9.45l-7.72 7.72c-.78.78-.78 2.05 0 2.83L4 21.41c.39.39.9.59 1.41.59.51 0 1.02-.2 1.41-.59l7.78-7.78 2.81-2.81c.8-.78.8-2.07 0-2.86zM5.41 20L4 18.59l7.72-7.72 1.47 1.35L5.41 20z\"/>\n",
              "  </svg>\n",
              "      </button>\n",
              "      \n",
              "  <style>\n",
              "    .colab-df-container {\n",
              "      display:flex;\n",
              "      flex-wrap:wrap;\n",
              "      gap: 12px;\n",
              "    }\n",
              "\n",
              "    .colab-df-convert {\n",
              "      background-color: #E8F0FE;\n",
              "      border: none;\n",
              "      border-radius: 50%;\n",
              "      cursor: pointer;\n",
              "      display: none;\n",
              "      fill: #1967D2;\n",
              "      height: 32px;\n",
              "      padding: 0 0 0 0;\n",
              "      width: 32px;\n",
              "    }\n",
              "\n",
              "    .colab-df-convert:hover {\n",
              "      background-color: #E2EBFA;\n",
              "      box-shadow: 0px 1px 2px rgba(60, 64, 67, 0.3), 0px 1px 3px 1px rgba(60, 64, 67, 0.15);\n",
              "      fill: #174EA6;\n",
              "    }\n",
              "\n",
              "    [theme=dark] .colab-df-convert {\n",
              "      background-color: #3B4455;\n",
              "      fill: #D2E3FC;\n",
              "    }\n",
              "\n",
              "    [theme=dark] .colab-df-convert:hover {\n",
              "      background-color: #434B5C;\n",
              "      box-shadow: 0px 1px 3px 1px rgba(0, 0, 0, 0.15);\n",
              "      filter: drop-shadow(0px 1px 2px rgba(0, 0, 0, 0.3));\n",
              "      fill: #FFFFFF;\n",
              "    }\n",
              "  </style>\n",
              "\n",
              "      <script>\n",
              "        const buttonEl =\n",
              "          document.querySelector('#df-5d57085d-a6e5-40ee-a051-271bfdc8a818 button.colab-df-convert');\n",
              "        buttonEl.style.display =\n",
              "          google.colab.kernel.accessAllowed ? 'block' : 'none';\n",
              "\n",
              "        async function convertToInteractive(key) {\n",
              "          const element = document.querySelector('#df-5d57085d-a6e5-40ee-a051-271bfdc8a818');\n",
              "          const dataTable =\n",
              "            await google.colab.kernel.invokeFunction('convertToInteractive',\n",
              "                                                     [key], {});\n",
              "          if (!dataTable) return;\n",
              "\n",
              "          const docLinkHtml = 'Like what you see? Visit the ' +\n",
              "            '<a target=\"_blank\" href=https://colab.research.google.com/notebooks/data_table.ipynb>data table notebook</a>'\n",
              "            + ' to learn more about interactive tables.';\n",
              "          element.innerHTML = '';\n",
              "          dataTable['output_type'] = 'display_data';\n",
              "          await google.colab.output.renderOutput(dataTable, element);\n",
              "          const docLink = document.createElement('div');\n",
              "          docLink.innerHTML = docLinkHtml;\n",
              "          element.appendChild(docLink);\n",
              "        }\n",
              "      </script>\n",
              "    </div>\n",
              "  </div>\n",
              "  "
            ]
          },
          "metadata": {},
          "execution_count": 22
        }
      ]
    },
    {
      "cell_type": "code",
      "source": [
        "#Convert the DataFrame in numpy arrays\n",
        "url_array = df['url'].to_numpy()\n",
        "type_array = df['type'].to_numpy()"
      ],
      "metadata": {
        "id": "lBMnTEQzfYeo"
      },
      "execution_count": 23,
      "outputs": []
    },
    {
      "cell_type": "markdown",
      "source": [
        "##**Features Extraction**\n",
        "To determine the class label of an URL, the first step was selecting the features that can be extracted from an URL. In this case i decided to extract some lexical features:\n",
        "- These refer to statistical features extracted from the literal URL string. For example, length of the URL string, number of digits, number of parameters in its query part, if the URL is encoded, etc."
      ],
      "metadata": {
        "id": "cXfkrRc9GtR_"
      }
    },
    {
      "cell_type": "code",
      "source": [
        "def www_count(url):\n",
        "  \"\"\"\n",
        "    From the input URL this will return the number of \n",
        "    occurrences of the substring 'www'.\n",
        "  \"\"\"\n",
        "  return url.count('www')\n",
        "\n",
        "def at_count(url):\n",
        "  \"\"\"\n",
        "    From the input URL this will return the number of \n",
        "    occurrences of the substring '@'.\n",
        "  \"\"\"\n",
        "  return url.count('@')\n",
        "\n",
        "def url_lenght(url):\n",
        "  \"\"\"\n",
        "    From the input URL this will return the\n",
        "    corresponding length\n",
        "  \"\"\"\n",
        "  return len(url)\n",
        "\n",
        "def url_path_len(url):\n",
        "  \"\"\"\n",
        "    From the input URL this will return the length\n",
        "    of the path where the resource is located.\n",
        "  \"\"\"\n",
        "  url_parse = urlparse(url)\n",
        "  return len(url_parse.path)\n",
        "\n",
        "def host_len(url):\n",
        "  \"\"\"\n",
        "     From the input URL this will return the length\n",
        "     of the hostname.\n",
        "  \"\"\"\n",
        "  url_parse = urlparse(url)\n",
        "  return len(url_parse.netloc)\n",
        "\n",
        "def url_host_is_ip(url):\n",
        "  \"\"\"\n",
        "    From the input URL this will return 1 if the hostname\n",
        "    contains the IP adress otherwise it returns 0 if it\n",
        "    contains the domain name where the resource is located.\n",
        "  \"\"\"\n",
        "  url = urlparse(url)\n",
        "  reg = r\"^(([0-9]|[1-9][0-9]|1[0-9]{2}|2[0-4][0-9]|25[0-5])\\.){3}([0-9]|[1-9][0-9]|1[0-9]{2}|2[0-4][0-9]|25[0-5])$\"\n",
        "  if re.match(reg, url.netloc):\n",
        "      return 1\n",
        "  else:\n",
        "      return 0\n",
        "\n",
        "def number_of_digits(url):\n",
        "  \"\"\"\n",
        "    From the input URL this will return the number of \n",
        "    digits in the URL.\n",
        "  \"\"\"\n",
        "  digits = [i for i in url if i.isdigit()]\n",
        "  return len(digits)\n",
        "\n",
        "def number_of_parameters(url):\n",
        "  \"\"\"\n",
        "    From the input URL this will return the number of\n",
        "    parameters contained in the URL.\n",
        "  \"\"\"\n",
        "  params = urlparse(url).query\n",
        "  return 0 if params == '' else len(params.split('&'))\n",
        "\n",
        "def number_of_subdirectories(url):\n",
        "  \"\"\"\n",
        "    From the input URL this will return the number of\n",
        "    subdirectories in the path of the URL.\n",
        "  \"\"\"\n",
        "  d = urlparse(url).path.split('/')\n",
        "  return len(d) - 1\n",
        "\n",
        "def number_of_periods(url):\n",
        "  \"\"\"\n",
        "    From the input URL this will return the number of\n",
        "    periods in the URL.\n",
        "  \"\"\"\n",
        "  return url.count('.')\n",
        "\n",
        "def num_encoded_char(url):\n",
        "  \"\"\"\n",
        "    From the input URL this will return the number of\n",
        "    encoded characters in the URL.\n",
        "  \"\"\"\n",
        "  return url.count('%')\n",
        "\n",
        "def equal_count(url):\n",
        "  \"\"\"\n",
        "    From the input URL this will return the number of\n",
        "    variable values passed from one form page to another.\n",
        "  \"\"\"\n",
        "  return url.count('=')\n",
        "\n",
        "def count_http(url):\n",
        "  \"\"\"\n",
        "    From the input URL this will return the number of \n",
        "    occurrences of the substring 'http'.\n",
        "  \"\"\"\n",
        "  return url.count('http')\n",
        "\n",
        "def count_https(url):\n",
        "  \"\"\"\n",
        "    From the input URL this will return the number of \n",
        "    occurrences of the substring 'https'.\n",
        "  \"\"\"\n",
        "  return url.count('https')\n",
        "\n",
        "features_extraction_func = []\n",
        "features_extraction_func.append(np.vectorize(www_count))\n",
        "features_extraction_func.append(np.vectorize(at_count))\n",
        "features_extraction_func.append(np.vectorize(url_lenght))\n",
        "features_extraction_func.append(np.vectorize(url_path_len))\n",
        "features_extraction_func.append(np.vectorize(host_len))\n",
        "features_extraction_func.append(np.vectorize(url_host_is_ip))\n",
        "features_extraction_func.append(np.vectorize(number_of_digits))\n",
        "features_extraction_func.append(np.vectorize(number_of_parameters))\n",
        "features_extraction_func.append(np.vectorize(number_of_subdirectories))\n",
        "features_extraction_func.append(np.vectorize(number_of_periods))\n",
        "features_extraction_func.append(np.vectorize(num_encoded_char))\n",
        "features_extraction_func.append(np.vectorize(equal_count))\n",
        "features_extraction_func.append(np.vectorize(count_http))\n",
        "features_extraction_func.append(np.vectorize(count_https))"
      ],
      "metadata": {
        "id": "EWTluqxNS6ZN"
      },
      "execution_count": 24,
      "outputs": []
    },
    {
      "cell_type": "code",
      "source": [
        "def make_predictor_variables(features_extraction_func, urls):\n",
        "  \"\"\"\n",
        "    From the URLs contained in the dataset this returns all\n",
        "    the extracted features as a numpy array of\n",
        "    shape = (number of URLs, number of features).\n",
        "  \"\"\"\n",
        "  x = np.zeros(shape = (url_array.shape[0], len(features_extraction_func)))\n",
        "\n",
        "  for i, function in enumerate(features_extraction_func):\n",
        "    x[:, i] = function(urls)\n",
        "\n",
        "  return x\n",
        "\n",
        "x = make_predictor_variables(features_extraction_func, url_array)"
      ],
      "metadata": {
        "id": "W84SMQ2af39J"
      },
      "execution_count": 115,
      "outputs": []
    },
    {
      "cell_type": "markdown",
      "source": [
        "##**Features discriminant capability evaluation**\n",
        "Now I made an analysis on the features discriminant capacibility, where i check the distribution of the features for all the classes. We the following four example we can see that:\n",
        "- On average, the number of @ in the url is very low for benign and malware URLs and high for others.\n",
        "- On average, the url length is very high for phishing URLs and low for the others expecially for defacement URLs.\n",
        "- On average, the path length is almost the same for all classes, a bit higher for defacement URLs.\n",
        "- On average, the hostname path is higher for benign URLs and lower for other classes."
      ],
      "metadata": {
        "id": "Wb3Lqf6g3PPq"
      }
    },
    {
      "cell_type": "code",
      "source": [
        "fig = plt.figure()\n",
        "fig.subplots_adjust(hspace=1, wspace=0.4)\n",
        "\n",
        "plot_titles = [\"count-@\", \"url-length\", \"path-len\", \"hostname-len\"]\n",
        "x_labels = np.unique(type_array)\n",
        "height_plot = np.zeros(shape = (len(plot_titles), len(x_labels)))\n",
        "x_plot = np.arange(1,5)\n",
        "\n",
        "for j in range(len(plot_titles)):\n",
        "  for i, label in enumerate(x_labels):\n",
        "    height_plot[j][i] = x[type_array == label, j].mean()\n",
        "\n",
        "for i in range(len(plot_titles)):\n",
        "    ax = fig.add_subplot(2, 2, i+1)\n",
        "    ax.set_title(plot_titles[i])\n",
        "    ax.set_xticks(x_plot)\n",
        "    ax.set_xticklabels(x_labels, rotation = 90)\n",
        "    ax.bar(x_plot, height_plot[i])"
      ],
      "metadata": {
        "colab": {
          "base_uri": "https://localhost:8080/",
          "height": 522
        },
        "id": "NccvbXo4XxnJ",
        "outputId": "15d1e78a-187a-4b09-f6b5-51ad2a9f5592"
      },
      "execution_count": 116,
      "outputs": [
        {
          "output_type": "display_data",
          "data": {
            "text/plain": [
              "<Figure size 640x480 with 4 Axes>"
            ],
            "image/png": "[encoded data removed]"
          },
          "metadata": {}
        }
      ]
    }
  ]
}